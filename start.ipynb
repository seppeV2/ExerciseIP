{
 "cells": [
  {
   "cell_type": "markdown",
   "id": "a3573d10",
   "metadata": {},
   "source": [
    "# Exercise session IP Group 6\n",
    "##### Seppe Vilain, Edward Vanlerberghe, Amit Challana\n",
    "## Setup \n",
    "\n",
    "Step 1: Run the first code block to install all the neccesary dependencies (wait until finished)<br>\n",
    "Before Step 2 check if the path (line 1) is the correct path to the ExerciseIP-main folder. If not, change the path.<br>\n",
    "Step 2: Run block 2 to import all the needed function for this exercise sessions."
   ]
  },
  {
   "cell_type": "code",
   "execution_count": null,
   "id": "eed06ee5",
   "metadata": {},
   "outputs": [],
   "source": [
    "import sys\n",
    "import os\n",
    "from IPython.display import clear_output\n",
    "from google.colab import drive\n",
    "drive.mount('/content/drive')\n",
    "!{sys.executable} -m pip install dyntapy\n",
    "!{sys.executable} -m pip install html2Image\n",
    "!{sys.executable} -m pip install opencv-python\n",
    "!{sys.executable} -m pip install selenium\n",
    "!{sys.executable} -m pip install --upgrade networkx\n",
    "!{sys.executable} -m pip install --upgrade scipy\n",
    "clear_output()\n",
    "print('Done')"
   ]
  },
  {
   "cell_type": "code",
   "execution_count": null,
   "id": "60ee85f6",
   "metadata": {},
   "outputs": [],
   "source": [
    "os.chdir('/content/drive/MyDrive/ExerciseIP-main')\n",
    "from SourceCode.ownFunctions import makeOwnToyNetwork\n",
    "from SourceCode.exerciseSpecific import load_demand, assign, assign_simple\n",
    "from bokeh.plotting import show\n",
    "from bokeh.io import output_notebook\n",
    "import dyntapy\n",
    "output_notebook()\n",
    "clear_output()\n",
    "print('Done')"
   ]
  },
  {
   "cell_type": "markdown",
   "id": "94438b25",
   "metadata": {},
   "source": [
    "## Case 1\n",
    "### Y route network\n",
    "\n",
    "In this first case a Y network is formed, the link properties can be retreived by hovering over them (after running the next code block)."
   ]
  },
  {
   "cell_type": "code",
   "execution_count": null,
   "id": "d509b63e",
   "metadata": {},
   "outputs": [],
   "source": [
    "g,centroids = makeOwnToyNetwork('y-network')\n",
    "dyntapy.show_network(g, euclidean = True, notebook=True)"
   ]
  },
  {
   "cell_type": "markdown",
   "id": "d8092441",
   "metadata": {},
   "source": [
    "Next assign a demands for link 0 and link 1."
   ]
  },
  {
   "cell_type": "code",
   "execution_count": null,
   "id": "4513376a",
   "metadata": {},
   "outputs": [],
   "source": [
    "            #fill in the demand\n",
    "demand_link0 = \n",
    "demand_link1 = \n",
    "\n",
    "load_demand('y-network', [demand_link0, demand_link1])"
   ]
  },
  {
   "cell_type": "markdown",
   "id": "3a24ae91",
   "metadata": {},
   "source": [
    "In the next code block, the assignment of the network is done using the *equisaturation* policy, in the second code block the same assignment is done using the *P0* policy. <br>Can you see any differences? "
   ]
  },
  {
   "cell_type": "code",
   "execution_count": null,
   "id": "9f7ccb81",
   "metadata": {},
   "outputs": [],
   "source": [
    "flows, greens = assign('equisaturation', g, centroids)\n",
    "dyntapy.show_network(g, flows = flows, euclidean = True, notebook=True)"
   ]
  },
  {
   "cell_type": "code",
   "execution_count": null,
   "id": "2740dded",
   "metadata": {},
   "outputs": [],
   "source": [
    "flows, greens = assign('P0', g, centroids)\n",
    "dyntapy.show_network(g, flows = flows, euclidean = True, notebook=True)"
   ]
  },
  {
   "cell_type": "markdown",
   "id": "e1d56444",
   "metadata": {},
   "source": [
    "## Case 2\n",
    "### Two route network\n",
    "\n",
    "In this second case we will look at a two route network. In this network there will be a route choice so in this case we find the solution using the IOA method explained in the theory.<br>\n",
    "In the code block underneed the network is displayed, the link properties can be retreived by hovering over the link."
   ]
  },
  {
   "cell_type": "code",
   "execution_count": null,
   "id": "89bc113d",
   "metadata": {},
   "outputs": [],
   "source": [
    "g,centroids,_ = makeOwnToyNetwork('simple')\n",
    "dyntapy.show_network(g, euclidean = True, notebook=True)"
   ]
  },
  {
   "cell_type": "markdown",
   "id": "9307a633",
   "metadata": {},
   "source": [
    "In this case there is only one origin, so there is only one demand. Becouse there is a route choice the result will be calculated iteratively. Enter your demand underneath."
   ]
  },
  {
   "cell_type": "code",
   "execution_count": null,
   "id": "69b015b3",
   "metadata": {},
   "outputs": [],
   "source": [
    "#change the demand here to get different results\n",
    "#here the equisaturation policy is used\n",
    "\n",
    "        #fill in the demand\n",
    "demand = \n",
    "\n",
    "policy1 = 'equisaturation'\n",
    "flows = assign_simple(demand,policy1)\n",
    "dyntapy.show_network(g, flows = flows, euclidean = True, notebook=True)"
   ]
  },
  {
   "cell_type": "code",
   "execution_count": null,
   "id": "9f36bad2",
   "metadata": {},
   "outputs": [],
   "source": [
    "#change the demand here to get different results\n",
    "#here the P0 policy is used\n",
    "\n",
    "        #fill in the demand\n",
    "demand = \n",
    "\n",
    "policy1 = 'P0'\n",
    "flows = assign_simple(demand,policy1)\n",
    "dyntapy.show_network(g, flows = flows, euclidean = True, notebook=True)"
   ]
  },
  {
   "cell_type": "markdown",
   "id": "140d7f44",
   "metadata": {},
   "source": [
    "## Case 3\n",
    "### Other cost function\n",
    "\n",
    "In this case instead of bpr, the webster two term cost function is used. Run the code block underneath to see the difference."
   ]
  },
  {
   "cell_type": "code",
   "execution_count": null,
   "id": "07142ca0",
   "metadata": {},
   "outputs": [],
   "source": [
    "#change the demand here to get different results\n",
    "#here the P0 policy is used\n",
    "\n",
    "demand = \n",
    "\n",
    "policy1 = 'P0'\n",
    "cost = 'WebsterTwoTerm'\n",
    "flows = assign_simple(demand,policy1, cost)\n",
    "dyntapy.show_network(g, flows = flows, euclidean = True, notebook=True)"
   ]
  },
  {
   "cell_type": "code",
   "execution_count": null,
   "id": "ca5c50f7",
   "metadata": {},
   "outputs": [],
   "source": []
  }
 ],
 "metadata": {
  "kernelspec": {
   "display_name": "Python 3 (ipykernel)",
   "language": "python",
   "name": "python3"
  },
  "language_info": {
   "codemirror_mode": {
    "name": "ipython",
    "version": 3
   },
   "file_extension": ".py",
   "mimetype": "text/x-python",
   "name": "python",
   "nbconvert_exporter": "python",
   "pygments_lexer": "ipython3",
   "version": "3.11.0"
  },
  "vscode": {
   "interpreter": {
    "hash": "1a1af0ee75eeea9e2e1ee996c87e7a2b11a0bebd85af04bb136d915cefc0abce"
   }
  }
 },
 "nbformat": 4,
 "nbformat_minor": 5
}
